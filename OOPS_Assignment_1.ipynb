{
  "nbformat": 4,
  "nbformat_minor": 0,
  "metadata": {
    "colab": {
      "provenance": []
    },
    "kernelspec": {
      "name": "python3",
      "display_name": "Python 3"
    },
    "language_info": {
      "name": "python"
    }
  },
  "cells": [
    {
      "cell_type": "markdown",
      "source": [
        "# **Theoretical Answer**"
      ],
      "metadata": {
        "id": "OnY8rBBYGsnP"
      }
    },
    {
      "cell_type": "markdown",
      "source": [
        "# **Answer-1**\n",
        "- Object-Oriented Programming (OOP) is a programming paradigm based on the concept of objects which contain data and methods. It promotes code reuse, modularity, and abstraction."
      ],
      "metadata": {
        "id": "wa2XQ6efGyY_"
      }
    },
    {
      "cell_type": "markdown",
      "source": [
        "# **Answer-2**\n",
        "- A class in OOP is a blueprint for creating objects. It defines the structure and behavior of its objects through attributes and methods."
      ],
      "metadata": {
        "id": "Tof45qp7Hqlj"
      }
    },
    {
      "cell_type": "markdown",
      "source": [
        "# **Answer-3**\n",
        "- An object is an instance of a class. It represents a specific entity with defined attributes and behaviors"
      ],
      "metadata": {
        "id": "QxTo7n4tH--G"
      }
    },
    {
      "cell_type": "markdown",
      "source": [
        "# **Answer-4**\n",
        "- Abstraction hides implementation details and shows only functionality, while encapsulation binds data and methods together and restricts access to some components."
      ],
      "metadata": {
        "id": "jpJrBGpSIMrl"
      }
    },
    {
      "cell_type": "markdown",
      "source": [
        "# **Answer-5**\n",
        "- Dunder methods (double underscore methods) are special methods in Python like init, str, and repr that enable operator overloading and provide special behavior."
      ],
      "metadata": {
        "id": "W-K0vwhUIQU8"
      }
    },
    {
      "cell_type": "markdown",
      "source": [
        "# **Answer-6**\n",
        "- Inheritance is a mechanism where one class (child) inherits attributes and methods from another class (parent)."
      ],
      "metadata": {
        "id": "si0zv8GNIXqO"
      }
    },
    {
      "cell_type": "markdown",
      "source": [
        "# **Answer-7**\n",
        "- Polymorphism allows different classes to implement methods with the same name in different ways, enabling flexible and reusable code."
      ],
      "metadata": {
        "id": "J1n20V72If44"
      }
    },
    {
      "cell_type": "markdown",
      "source": [
        "# **Answer-8**\n",
        "- Encapsulation is achieved in Python by using private attributes (prefixing with _ or __) and providing public methods for access and modification."
      ],
      "metadata": {
        "id": "XrD-iDjFIk1F"
      }
    },
    {
      "cell_type": "markdown",
      "source": [
        "# **Answer-9**\n",
        "- A constructor in Python is the init method. It initializes a newly created object."
      ],
      "metadata": {
        "id": "FrnTYzQeIuoQ"
      }
    },
    {
      "cell_type": "markdown",
      "source": [
        "# **Answer-10**\n",
        "- @classmethod takes the class as the first parameter and is used to create factory methods, while @staticmethod does not take an implicit first argument."
      ],
      "metadata": {
        "id": "4h6M1QRlI0oX"
      }
    },
    {
      "cell_type": "markdown",
      "source": [
        "# **Answer-11**\n",
        "- Python does not support method overloading in the traditional sense, but it can be mimicked using default arguments or variable-length arguments."
      ],
      "metadata": {
        "id": "pLZzP8LEJG60"
      }
    },
    {
      "cell_type": "markdown",
      "source": [
        "# **Answer-12**\n",
        "- Method overriding allows a subclass to provide a specific implementation of a method defined in its superclass."
      ],
      "metadata": {
        "id": "9yp_qPNSJNn0"
      }
    },
    {
      "cell_type": "markdown",
      "source": [
        "# **Answer-13**\n",
        "- The property decorator allows you to define methods in a class that behave like attributes, enabling controlled access."
      ],
      "metadata": {
        "id": "1_AffOmTJWbD"
      }
    },
    {
      "cell_type": "markdown",
      "source": [
        "# **Answer-14**\n",
        "- Polymorphism enhances flexibility by allowing the same interface to be used for different underlying data types."
      ],
      "metadata": {
        "id": "Q4wScudmJdVK"
      }
    },
    {
      "cell_type": "markdown",
      "source": [
        "# **Answer-15**\n",
        "- An abstract class cannot be instantiated and often contains abstract methods that must be implemented by subclasses."
      ],
      "metadata": {
        "id": "JrG-tB3cJi4V"
      }
    },
    {
      "cell_type": "markdown",
      "source": [
        "# **Answer-16**\n",
        "- Advantages include code reusability, scalability, modularity, and improved maintainability."
      ],
      "metadata": {
        "id": "69xGB7WfJp1N"
      }
    },
    {
      "cell_type": "markdown",
      "source": [
        "# **Answer-17**\n",
        "- Class variables are shared across all instances, while instance variables are specific to each object."
      ],
      "metadata": {
        "id": "gUfuiEW0Jw4f"
      }
    },
    {
      "cell_type": "markdown",
      "source": [
        "# **Answer-18**\n",
        "- Multiple inheritance allows a class to inherit from more than one parent class."
      ],
      "metadata": {
        "id": "HYblkhYTJ4C1"
      }
    },
    {
      "cell_type": "markdown",
      "source": [
        "# **Answer-19**\n",
        "- __str__ returns a human-readable string, while __repr__ returns an unambiguous string for developers."
      ],
      "metadata": {
        "id": "SOTaU2-PJ-pd"
      }
    },
    {
      "cell_type": "markdown",
      "source": [
        "# **Answer-20**\n",
        "- super() allows access to methods from a parent or sibling class, enabling method reuse and avoiding code duplication."
      ],
      "metadata": {
        "id": "tRQ_BKhqKScQ"
      }
    },
    {
      "cell_type": "markdown",
      "source": [
        "# **Answer-21**\n",
        "- __del__ is called when an object is about to be destroyed and is used for cleanup activities."
      ],
      "metadata": {
        "id": "cog4ajAZKW8R"
      }
    },
    {
      "cell_type": "markdown",
      "source": [
        "# **Answer-22**\n",
        "- @staticmethod doesn't access class or instance data, while @classmethod takes the class as an argument and can modify class state."
      ],
      "metadata": {
        "id": "0nRoz9sOKjrc"
      }
    },
    {
      "cell_type": "markdown",
      "source": [
        "# **Answer-23**\n",
        "- Through method overriding, Python allows different classes to define the same method, supporting polymorphic behavior."
      ],
      "metadata": {
        "id": "oOJjiQDAKvB3"
      }
    },
    {
      "cell_type": "markdown",
      "source": [
        "# **Answer-24**\n",
        "- Method chaining allows multiple methods to be called on the same object in a single statement by returning self."
      ],
      "metadata": {
        "id": "4Ov5M5RsKyib"
      }
    },
    {
      "cell_type": "markdown",
      "source": [
        "# **Answer-25**\n",
        "- __call__ allows an instance of a class to be called as a function."
      ],
      "metadata": {
        "id": "vzIlQc--K53r"
      }
    },
    {
      "cell_type": "markdown",
      "source": [
        "# **PRACTICAL ANSWER**"
      ],
      "metadata": {
        "id": "GIuMgsuFK-cu"
      }
    },
    {
      "cell_type": "code",
      "source": [
        "# Answer-1\n",
        "\n",
        "class Animal:\n",
        "    def speak(self):\n",
        "        print(\"Animal makes a sound\")\n",
        "\n",
        "class Dog(Animal):\n",
        "    def speak(self):\n",
        "        print(\"Bark!\")\n",
        "\n",
        "dog = Dog()\n",
        "dog.speak()"
      ],
      "metadata": {
        "colab": {
          "base_uri": "https://localhost:8080/"
        },
        "id": "81o7viPYL1rw",
        "outputId": "037d7251-69db-42af-f3cb-0f8fe47f9aca"
      },
      "execution_count": 6,
      "outputs": [
        {
          "output_type": "stream",
          "name": "stdout",
          "text": [
            "Bark!\n"
          ]
        }
      ]
    },
    {
      "cell_type": "code",
      "source": [
        "# Answer-2\n",
        "\n",
        "# Base class\n",
        "class Shape:\n",
        "    def area(self):\n",
        "        # This function should be overridden in child classes\n",
        "        pass\n",
        "\n",
        "# Derived class: Circle\n",
        "class Circle(Shape):\n",
        "    def __init__(self, radius):\n",
        "        self.radius = radius\n",
        "\n",
        "    def area(self):\n",
        "        return 3.14 * self.radius * self.radius\n",
        "\n",
        "# Derived class: Rectangle\n",
        "class Rectangle(Shape):\n",
        "    def __init__(self, width, height):\n",
        "        self.width = width\n",
        "        self.height = height\n",
        "\n",
        "    def area(self):\n",
        "        return self.width * self.height\n",
        "\n",
        "# Example usage\n",
        "circle = Circle(5)\n",
        "rectangle = Rectangle(4, 6)\n",
        "\n",
        "print(\"Circle Area:\", circle.area())\n",
        "print(\"Rectangle Area:\", rectangle.area())"
      ],
      "metadata": {
        "colab": {
          "base_uri": "https://localhost:8080/"
        },
        "id": "__-DcwnCL1l_",
        "outputId": "f3f005c1-c0fe-492e-8e8a-f3155aac8338"
      },
      "execution_count": 5,
      "outputs": [
        {
          "output_type": "stream",
          "name": "stdout",
          "text": [
            "Circle Area: 78.5\n",
            "Rectangle Area: 24\n"
          ]
        }
      ]
    },
    {
      "cell_type": "code",
      "source": [
        "# Answer-3\n",
        "\n",
        "class Vehicle:\n",
        "    def __init__(self, vehicle_type):\n",
        "        self.vehicle_type = vehicle_type\n",
        "\n",
        "class Car(Vehicle):\n",
        "    def __init__(self, vehicle_type, model):\n",
        "        super().__init__(vehicle_type)\n",
        "        self.model = model\n",
        "\n",
        "class ElectricCar(Car):\n",
        "    def __init__(self, vehicle_type, model, battery):\n",
        "        super().__init__(vehicle_type, model)\n",
        "        self.battery = battery\n",
        "\n",
        "ec = ElectricCar(\"Electric\", \"Tata\", \"100kWh\")\n",
        "print(ec.vehicle_type, ec.model, ec.battery)"
      ],
      "metadata": {
        "colab": {
          "base_uri": "https://localhost:8080/"
        },
        "id": "xhj7UeX8L1eJ",
        "outputId": "ee88e8e6-6200-48f8-8080-8113597c139c"
      },
      "execution_count": 8,
      "outputs": [
        {
          "output_type": "stream",
          "name": "stdout",
          "text": [
            "Electric Tata 100kWh\n"
          ]
        }
      ]
    },
    {
      "cell_type": "code",
      "source": [
        "# Answer-4\n",
        "\n",
        "class Bird:\n",
        "    def fly(self):\n",
        "        print(\"Bird flies\")\n",
        "\n",
        "class Sparrow(Bird):\n",
        "    def fly(self):\n",
        "        print(\"Sparrow flies high\")\n",
        "\n",
        "class Penguin(Bird):\n",
        "    def fly(self):\n",
        "        print(\"Penguins can't fly\")\n",
        "\n",
        "birds = [Sparrow(), Penguin()]\n",
        "for bird in birds:\n",
        "    bird.fly()"
      ],
      "metadata": {
        "colab": {
          "base_uri": "https://localhost:8080/"
        },
        "id": "3VZRA4uLL1YJ",
        "outputId": "c871d5fc-cc58-4dc9-b7c3-f12e0830f4f1"
      },
      "execution_count": 9,
      "outputs": [
        {
          "output_type": "stream",
          "name": "stdout",
          "text": [
            "Sparrow flies high\n",
            "Penguins can't fly\n"
          ]
        }
      ]
    },
    {
      "cell_type": "code",
      "source": [
        "# Answer-5\n",
        "\n",
        "class BankAccount:\n",
        "    def __init__(self, balance=0):\n",
        "        self.__balance = balance\n",
        "\n",
        "    def deposit(self, amount):\n",
        "        self.__balance += amount\n",
        "\n",
        "    def withdraw(self, amount):\n",
        "        if amount <= self.__balance:\n",
        "            self.__balance -= amount\n",
        "        else:\n",
        "            print(\"Insufficient funds\")\n",
        "\n",
        "    def get_balance(self):\n",
        "        return self.__balance\n",
        "\n",
        "acc = BankAccount()\n",
        "acc.deposit(10000)\n",
        "acc.withdraw(3000)\n",
        "print(\"Balance:\", acc.get_balance())"
      ],
      "metadata": {
        "colab": {
          "base_uri": "https://localhost:8080/"
        },
        "id": "3PJpsjPXL1RK",
        "outputId": "81668447-b811-451b-d894-75c999cfd274"
      },
      "execution_count": 11,
      "outputs": [
        {
          "output_type": "stream",
          "name": "stdout",
          "text": [
            "Balance: 7000\n"
          ]
        }
      ]
    },
    {
      "cell_type": "code",
      "source": [
        "# Answer-6\n",
        "\n",
        "class Instrument:\n",
        "    def play(self):\n",
        "        print(\"Instrument is playing\")\n",
        "\n",
        "class Guitar(Instrument):\n",
        "    def play(self):\n",
        "        print(\"Strumming the guitar\")\n",
        "\n",
        "class Piano(Instrument):\n",
        "    def play(self):\n",
        "        print(\"Playing the piano\")\n",
        "\n",
        "instruments = [Guitar(), Piano()]\n",
        "for inst in instruments:\n",
        "    inst.play()"
      ],
      "metadata": {
        "colab": {
          "base_uri": "https://localhost:8080/"
        },
        "id": "MEDeWbUvL1LS",
        "outputId": "cf2cc8e5-6907-4bac-fe4d-36f03e86601f"
      },
      "execution_count": 12,
      "outputs": [
        {
          "output_type": "stream",
          "name": "stdout",
          "text": [
            "Strumming the guitar\n",
            "Playing the piano\n"
          ]
        }
      ]
    },
    {
      "cell_type": "code",
      "source": [
        "# Answer-7\n",
        "\n",
        "class MathOperations:\n",
        "    @classmethod\n",
        "    def add_numbers(cls, a, b):\n",
        "        return a + b\n",
        "\n",
        "    @staticmethod\n",
        "    def subtract_numbers(a, b):\n",
        "        return a - b\n",
        "\n",
        "print(MathOperations.add_numbers(8, 4))\n",
        "print(MathOperations.subtract_numbers(8, 4))"
      ],
      "metadata": {
        "colab": {
          "base_uri": "https://localhost:8080/"
        },
        "id": "NdoPeNBhL1F6",
        "outputId": "e4fd8f78-fbcc-4ae5-c550-ebb76b497d76"
      },
      "execution_count": 14,
      "outputs": [
        {
          "output_type": "stream",
          "name": "stdout",
          "text": [
            "12\n",
            "4\n"
          ]
        }
      ]
    },
    {
      "cell_type": "code",
      "source": [
        "# Answer-8\n",
        "\n",
        "class Person:\n",
        "    count = 0\n",
        "\n",
        "    def __init__(self, name):\n",
        "        self.name = name\n",
        "        Person.count += 1\n",
        "\n",
        "    @classmethod\n",
        "    def get_person_count(cls):\n",
        "        return cls.count\n",
        "\n",
        "p1 = Person(\"Rahul\")\n",
        "p2 = Person(\"Ast Bhuja\")\n",
        "print(\"Total persons:\", Person.get_person_count())"
      ],
      "metadata": {
        "colab": {
          "base_uri": "https://localhost:8080/"
        },
        "id": "iY7ypPKdL0_W",
        "outputId": "9d88d9a2-c164-4105-8701-eabb51c56ae2"
      },
      "execution_count": 15,
      "outputs": [
        {
          "output_type": "stream",
          "name": "stdout",
          "text": [
            "Total persons: 2\n"
          ]
        }
      ]
    },
    {
      "cell_type": "code",
      "source": [
        "# Answer-9\n",
        "\n",
        "class Fraction:\n",
        "    def __init__(self, numerator, denominator):\n",
        "        self.numerator = numerator\n",
        "        self.denominator = denominator\n",
        "\n",
        "    def __str__(self):\n",
        "        return f\"{self.numerator}/{self.denominator}\"\n",
        "\n",
        "f = Fraction(4, 5)\n",
        "print(f)"
      ],
      "metadata": {
        "colab": {
          "base_uri": "https://localhost:8080/"
        },
        "id": "_X8SAR23L05G",
        "outputId": "db3fc03c-a226-4c65-f546-46acf7d57d08"
      },
      "execution_count": 17,
      "outputs": [
        {
          "output_type": "stream",
          "name": "stdout",
          "text": [
            "4/5\n"
          ]
        }
      ]
    },
    {
      "cell_type": "code",
      "source": [
        "# Answer-10\n",
        "\n",
        "class Vector:\n",
        "    def __init__(self, x, y):\n",
        "        self.x = x\n",
        "        self.y = y\n",
        "\n",
        "    def __add__(self, other):\n",
        "        return Vector(self.x + other.x, self.y + other.y)\n",
        "\n",
        "    def __str__(self):\n",
        "        return f\"Vector({self.x}, {self.y})\"\n",
        "\n",
        "v1 = Vector(1, 2)\n",
        "v2 = Vector(3, 4)\n",
        "print(v1 + v2)"
      ],
      "metadata": {
        "colab": {
          "base_uri": "https://localhost:8080/"
        },
        "id": "fEc4qCnkL0xY",
        "outputId": "8b1a814a-4216-4c89-8a1c-d8a57b010677"
      },
      "execution_count": 18,
      "outputs": [
        {
          "output_type": "stream",
          "name": "stdout",
          "text": [
            "Vector(4, 6)\n"
          ]
        }
      ]
    },
    {
      "cell_type": "code",
      "source": [
        "# Answer-11\n",
        "\n",
        "class Person:\n",
        "    def __init__(self, name, age):\n",
        "        self.name = name\n",
        "        self.age = age\n",
        "\n",
        "    def greet(self):\n",
        "        print(f\"Hello, my name is {self.name} and I am {self.age} years old.\")\n",
        "\n",
        "p = Person(\"Ast Bhuja\", 32)\n",
        "p.greet()"
      ],
      "metadata": {
        "colab": {
          "base_uri": "https://localhost:8080/"
        },
        "id": "jDyF-BYsL0hr",
        "outputId": "93472e6c-5cbb-469c-a960-1676de96d63a"
      },
      "execution_count": 20,
      "outputs": [
        {
          "output_type": "stream",
          "name": "stdout",
          "text": [
            "Hello, my name is Ast Bhuja and I am 32 years old.\n"
          ]
        }
      ]
    },
    {
      "cell_type": "code",
      "source": [
        "# Answer-12\n",
        "\n",
        "class Student:\n",
        "    def __init__(self, name, grades):\n",
        "        self.name = name\n",
        "        self.grades = grades  # list of grades\n",
        "\n",
        "    def average_grade(self):\n",
        "        return sum(self.grades) / len(self.grades)\n",
        "\n",
        "s = Student(\"Ast Bhuja\", [85, 90, 80])\n",
        "print(\"Average grade:\", s.average_grade())"
      ],
      "metadata": {
        "colab": {
          "base_uri": "https://localhost:8080/"
        },
        "id": "PZaeYGFyPTzL",
        "outputId": "1f5f0096-10f1-434c-f057-c7f84aaba151"
      },
      "execution_count": 23,
      "outputs": [
        {
          "output_type": "stream",
          "name": "stdout",
          "text": [
            "Average grade: 85.0\n"
          ]
        }
      ]
    },
    {
      "cell_type": "code",
      "source": [
        "# Answer-13\n",
        "\n",
        "class Rectangle:\n",
        "    def __init__(self):\n",
        "        self.length = 0\n",
        "        self.width = 0\n",
        "\n",
        "    def set_dimensions(self, length, width):\n",
        "        self.length = length\n",
        "        self.width = width\n",
        "\n",
        "    def area(self):\n",
        "        return self.length * self.width\n",
        "\n",
        "r = Rectangle()\n",
        "r.set_dimensions(6, 3)\n",
        "print(\"Area of rectangle:\", r.area())"
      ],
      "metadata": {
        "colab": {
          "base_uri": "https://localhost:8080/"
        },
        "id": "ZvR1-ySQPTqq",
        "outputId": "f66b733e-7a9f-48f4-9cd3-432ea3be2fea"
      },
      "execution_count": 25,
      "outputs": [
        {
          "output_type": "stream",
          "name": "stdout",
          "text": [
            "Area of rectangle: 18\n"
          ]
        }
      ]
    },
    {
      "cell_type": "code",
      "source": [
        "# Answer-14\n",
        "\n",
        "class Employee:\n",
        "    def __init__(self, hours_worked, hourly_rate):\n",
        "        self.hours_worked = hours_worked\n",
        "        self.hourly_rate = hourly_rate\n",
        "\n",
        "    def calculate_salary(self):\n",
        "        return self.hours_worked * self.hourly_rate\n",
        "\n",
        "class Manager(Employee):\n",
        "    def __init__(self, hours_worked, hourly_rate, bonus):\n",
        "        super().__init__(hours_worked, hourly_rate)\n",
        "        self.bonus = bonus\n",
        "\n",
        "    def calculate_salary(self):\n",
        "        return super().calculate_salary() + self.bonus\n",
        "\n",
        "e = Employee(50, 20)\n",
        "m = Manager(40, 30, 600)\n",
        "print(\"Employee salary:\", e.calculate_salary())\n",
        "print(\"Manager salary:\", m.calculate_salary())\n",
        ""
      ],
      "metadata": {
        "colab": {
          "base_uri": "https://localhost:8080/"
        },
        "id": "7fyU8LwyPTht",
        "outputId": "9d3a6a42-bb0c-4b96-d0e3-c7763a3f17fe"
      },
      "execution_count": 28,
      "outputs": [
        {
          "output_type": "stream",
          "name": "stdout",
          "text": [
            "Employee salary: 1000\n",
            "Manager salary: 1800\n"
          ]
        }
      ]
    },
    {
      "cell_type": "code",
      "source": [
        "# Answer-15\n",
        "\n",
        "class Product:\n",
        "    def __init__(self, name, price, quantity):\n",
        "        self.name = name\n",
        "        self.price = price\n",
        "        self.quantity = quantity\n",
        "\n",
        "    def total_price(self):\n",
        "        return self.price * self.quantity\n",
        "\n",
        "p = Product(\"Smartphone\", 100000, 2)\n",
        "print(\"Total price:\", p.total_price())"
      ],
      "metadata": {
        "colab": {
          "base_uri": "https://localhost:8080/"
        },
        "id": "5yKxqUtFPTWL",
        "outputId": "7c96daf3-1dd6-4017-9f37-ff64e6844c72"
      },
      "execution_count": 32,
      "outputs": [
        {
          "output_type": "stream",
          "name": "stdout",
          "text": [
            "Total price: 200000\n"
          ]
        }
      ]
    },
    {
      "cell_type": "code",
      "source": [
        "# Answer-16\n",
        "\n",
        "from abc import ABC, abstractmethod\n",
        "\n",
        "class Animal(ABC):\n",
        "    @abstractmethod\n",
        "    def sound(self):\n",
        "        pass\n",
        "\n",
        "class Cat(Animal):\n",
        "    def sound(self):\n",
        "        print(\"Meow\")\n",
        "\n",
        "class Sheep(Animal):\n",
        "    def sound(self):\n",
        "        print(\"Baa\")\n",
        "\n",
        "c = Cat()\n",
        "s = Sheep()\n",
        "c.sound()\n",
        "s.sound()"
      ],
      "metadata": {
        "colab": {
          "base_uri": "https://localhost:8080/"
        },
        "id": "MWiRxnQKRyXm",
        "outputId": "dad8638e-9416-4551-86a3-35f84f225561"
      },
      "execution_count": 36,
      "outputs": [
        {
          "output_type": "stream",
          "name": "stdout",
          "text": [
            "Meow\n",
            "Baa\n"
          ]
        }
      ]
    },
    {
      "cell_type": "code",
      "source": [
        "# Answer-17\n",
        "\n",
        "class Book:\n",
        "    def __init__(self, title, author, year_published):\n",
        "        self.title = title\n",
        "        self.author = author\n",
        "        self.year_published = year_published\n",
        "\n",
        "    def get_book_info(self):\n",
        "        return f\"'{self.title}' by {self.author} ({self.year_published})\"\n",
        "\n",
        "b = Book(\"Ek Samandar Mere Andar\", \"Sanjeev Joshi\", 2024)\n",
        "print(b.get_book_info())"
      ],
      "metadata": {
        "colab": {
          "base_uri": "https://localhost:8080/"
        },
        "id": "vsq7lrb3ibVG",
        "outputId": "78a5bf85-4739-4835-aae9-865b427ccc0a"
      },
      "execution_count": 39,
      "outputs": [
        {
          "output_type": "stream",
          "name": "stdout",
          "text": [
            "'Ek Samandar Mere Andar' by Sanjeev Joshi (2024)\n"
          ]
        }
      ]
    },
    {
      "cell_type": "code",
      "source": [
        "# Answer-18\n",
        "\n",
        "class House:\n",
        "    def __init__(self, address, price):\n",
        "        self.address = address\n",
        "        self.price = price\n",
        "\n",
        "class Mansion(House):\n",
        "    def __init__(self, address, price, number_of_rooms):\n",
        "        super().__init__(address, price)\n",
        "        self.number_of_rooms = number_of_rooms\n",
        "\n",
        "m = Mansion(\"112 St Stuart\", 40000000, 10)\n",
        "print(m.address, m.price, m.number_of_rooms)"
      ],
      "metadata": {
        "colab": {
          "base_uri": "https://localhost:8080/"
        },
        "id": "P_rBbJuwibJi",
        "outputId": "79cc5b06-2e8b-48b8-8bb3-470f050f520c"
      },
      "execution_count": 41,
      "outputs": [
        {
          "output_type": "stream",
          "name": "stdout",
          "text": [
            "112 St Stuart 40000000 10\n"
          ]
        }
      ]
    }
  ]
}